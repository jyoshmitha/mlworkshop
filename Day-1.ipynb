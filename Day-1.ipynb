{
 "cells": [
  {
   "cell_type": "markdown",
   "id": "02dd7cfd",
   "metadata": {},
   "source": [
    "# ML Workshop\n",
    "### ML Workshop\n",
    "###### ML Workshop"
   ]
  },
  {
   "cell_type": "markdown",
   "id": "ad834d41",
   "metadata": {},
   "source": [
    "#### Welcome to MACHINE LEARNING workshop online\n",
    "- introduction to machine learning\n",
    "   - **~machine learning~** is sub part of the ai\n",
    "- types of machine learning\n",
    "    - supervised\n",
    "        - classification\n",
    "        - regression\n",
    "    - unsupervised\n",
    "        - clustering\n",
    "        - pca\n",
    "<img src=\"https://miro.medium.com/max/1838/1*cG6U1qstYDijh9bPL42e-Q.jpeg\">\n",
    "\n",
    "## Displaying an image\n",
    "![machine learning](data:image/jpeg;base64,/9j/4AAQSkZJRgABAQAAAQABAAD/2wCEAAoHCBUUFBcVFRUYGBcXGxsaGxsbGBoYGxshGhsdGxoaGhsgICwkGx0pIB0bJTglKS4yMzMzGyI5PjkxPSwyMzABCwsLEA4QHhISHTIpIikyMjIyMjIyMjIyMjIyMjIyMjIyMjIyMjIyMjIyMjIyMjIyMjIyMjIyMjIyMjIwMjIyMv/AABEIALQBGAMBIgACEQEDEQH/xAAbAAACAwEBAQAAAAAAAAAAAAAEBQADBgIBB//EAEkQAAIBAgQDBQUFBAcGBQUAAAECEQADBBIhMQVBURMiYXGBBjKRobEUI0JS8HLB0eEVM0NTYoLxJHOSorLSB6OzwsMWNGODk//EABgBAAMBAQAAAAAAAAAAAAAAAAABAgME/8QAIREBAQEBAQADAAMAAwAAAAAAAAERAiESMUEDUWEiMnH/2gAMAwEAAhEDEQA/APjYr2vBUqie12txhsT8a4q20oObwBP0qgKwl4Qc7dImSfOfl6+FU3L5DHKdJMEgTE6cqHr2npYtfEMwgx8BVmFwwee8BHXnpQ8VZYQFgGMDmaIVXfYGgkFSB0M8p5VzbwbtsOU+lG3cEoTMDrHxhc0/rrXPD7S5xLTpMKYOhBg61Xx9T8vFIwVxSYmNiQdOfP0ND3nfMQxMjQ69NIq+9eKucrmORmeXzFDuSSSdyZPrSpz/AFb9rfcsSep16/xPxNcriW6zFVxRFmypG+s7eQJoyjxWL58OlcMZM0S2DMwCDoT8OlV3LOUKeomjBsV526mrMztr0PhvVUVYB3dzvt6b0YWvXdgBI5k+Z51Ld+OQrguSIO1cxTCxbmsxzPzFcM8tMeleV6u9LDdBxJPKDGgqWLnI6A+dXCCW22PMfLSvMNazSACTGwEn0HOjBsVYh50GoGx9KrtvlMwDTxfZfFOoKYa5/mAT/qIqh+AYq3q1hiB+y3yUk0fGiWYWNcB/COfzru6Bl0G+v1qxmiQbcHnIiPCCNKsTLkLQB+HrqZI/XhRg0AiSYq4EnY5VHp9NzXmHEtHWR8RAomxYzQAJIJkc9fCpXJtDMhOh3iQev8aHIptcwxBTSOZ8NZ/n60MqCBIHP8UGg7z8QNSiXtjMNNCOR/fVN0CTG1Ba4qVKlIPK9UxXldKhOwJ9KQdlZEj1HT+VdYce9+yfqK7LZD3ZgjWfHcHSihBQkA6KRy7uo7p018DVSFaXV6BUFFHBOLYuR3CY31GsajlzpyFbgcLXsVKgp4nTe5hX7PMWGiwBl1jKGOvTQj/WlVtypkfqaf3b6fZg0d4ygbKNwoDazzHj6VXwbh9u5cQAl4XO6QBJBAyAkwZJ/U1p8fUS5PSULR/CRazN2sRlOX3vekZduXXwrjiuHCXXUaAE6flnXKdTqNvSg6Mw92GNsWbl0Fibase8MoAXoAR9YFS/hLeYBbixkzEyT3gPd0H6muuB2bLuwvMFXKSCWy96RlEwdCdD0BJ5ValixcvL94LVt2giGlB5xEnrsJ6U8LfUt8MDZcrbpnIkE+IgaD1P8Kpx2ByBDM5lDdI8PLx50xbhdvMot3Afu851DajdBEQeesb9d7eK2LVuzbiTccBieUED/T0NTY15zGYK0ZiLGUHpmEeRXMPkaHbemeI72GVxuHCN6Kcp9Vgf5TVSMur6VZK5K17Uow9cxVlpASJMDnUVaZ8Jw69opdcyj8Mb6aD40pCvTS+ynsV9vcsvdsiczyZG0KoIEtofDXnsfpdjg2EwdvJhLKm4sNnPeZmU5oZzrrEaaAE0Thba4bD28PbATTMxURLNq3zpTxplW3LZwEZCoWPvGPuoPWPKJ5UTnfacueGLvnXtCwCkBpOgg6gnpSu5iMOZ++tEdc6x8ZigTh2uEC4BcaWISC1tSSSRbtyFAmR2jnU6AERR39HECTaWP2VU+jqYUzpqAJjUVXzxU40h9o+D2Xtl3ZcmkXJECSApDbbkVjcdgEsW2zKAQCkmTmJDEHbQ7a/4YrfYnhNsJcuW1MlGLIELLdj3le0N7k6EgZufIzmeJrZv21c22VEHeBlTbZV1Q8zA1Ppz2ezr1F5x8/tIWMATAJ9AJPyFNLMQLj90kkTEgkDUkTIOtLJIMjSrruJLIFMkySSTMzH8/jWONPl74aY/igdFQQcoyzlC6en1NKGvkCNIHgK7wxSGzzMGOn+tcOLciCf0Tv05VOLve+Kjf8B8KpY61cgSdSa8vIo2Os0UooNSoalQaV2rsNiR5EiualUFwxT/AJ2/4jTDhmKcswzT3TozaHUbkmlYozh5IzkbhCR6FafKep4cWlYOA1xezMjObaNlYCcjSuh5Tsd+sLm4tcBKxaI/3VqD/wAld4PjLo7lgrLcXJcWAMwiDBjutqe8Kp4hggkOhzW3nK3PTdWHJxzHkRoRV2+eIk99Blp1r0VxXaA0odh6OFr9kzn+tLZh30jswuumaS08oq7gfCH7W1mudkt1SQ6uAYjbfckjStFaxVv7EFMGbbRsSv8AswDTzWWUgdTmrD4HFG3dS4okoysAdjlMifDStskY7bor2gw2S8V7Q3NF75YMToPH5cq8Xgl3s1uEAIyM4OYbKQp0GoMsoAPWqeKYo3rjXCgXNGg20Eep0knrNcWcXcXuh2AIKxMiG3EbdPgKX6r3DPE+y9+25Q5S2kAN70yYWYkiDPlQl3hF0EgKHIbJ3Dn70ZoEb6A/8J6U5bgmLa6FuXfvCyoGa4xGqM05tYAAg+fnVWIs4ztAgctce48FWhy9ubbS2hkD5N4mn8UfKla8Lu9mbuXuCZMrIykAysyILLy5ihixrSnBY77G7GOxGbMCEzaXO9rE++Dz5eVZcUYc7rkimmCvZLLSMys4VlPMZSd+RG4PI/ChMPfKGQFM/mRX/wCoGKbrxD/ZyTbtH7wCOzAHun8sU5CvQE8MW5radWn8Dsttx4QxAb/KT5Cq24PiB/Y3PRGPzAqz+kF/uLX/AJg+j16uPt/3CejXB/76eQtoq3wy2iL2jMl0gkoyEc+7uNjBraew3DkcEnLo6biREP8A6+grD2MdYmWw5Oh926w1IMHUHYwfSmHA8Zdd1tWyc1xgoHLXmfACSTyANT1DlfaMbBbSs57RsRcwyjbNcb/MEhfqaaX7F1QHzjI2iqdSY0zeH8qW+0dljaW4JzWmzaCTH4iBuYgMQNSAwEmKM/4r30PgXGV5ML2yox//AB95Uk8l0UDrIGuaDo7GMt20W3kQFwcyjLpbCklmg6DlJ6jrWVw90NFy2wBZRI7pVwRAiTldY0kGIAEHSLVU+6eztoTLBERQ/wC1l1f9nSetZdcbda895MH4Bix1mTl8+9ZBf5mT4k1gr+KDfbhpkT3YHTtLZLdWIRfgK2HHccbOHfs/61hkQH3pc99zA0aJPIeWlYF2t4axldS/aNDAAr3VB57TLMY/xAVpJYjrqUJhO1uW1h7JDAghoDDXL3o11gfKubNi8B7lk7jXKSOug050McbhS0mwwB3AfbpGn61ofGYjDtGS3cTqM0gjrrPw8d6NiJLatsWHcsws22HSR56GfCuMRhGBk2Ino2ny2Fcrcw0f2g0A0jfmTrqK9V7Mf1twHrGmk6/TSoV6AxVrKNbZU8iT+poSKZYoWyvduO7ad0g7/omg8Qiq0K2Yaa+mvzrOxrzVBFSvTUpKeV7VxsVwyRTxOuRROEuBc880IHmSP4VxbCxqDMj4cxROHFrTPPz8enpTkK0EtMk7I2GBdxcDA5d0bkPJgCTJ8Rzo/B4PDMpds+VTDET+Kcs6dekUUmF4fCzceRmzaHXfL+HQ+7Wk5yM73tZgLWr4Kqf0fiZyyWSQWAYgEFcuh58uetJ1XDhWkvm7PSQI7SRoI3WJ3j9xCR4quZIXW2NVwy3Ze1iyiMlsIp1eXBVWYAQuxZTMmPd5xS7g+Nwtp7dx7buy5s6kKyGQQsCR159KThqrK07/AImT+31e21tkF/sV7I2mPuWxCqGY24z+BMZfXcj55xm9buXma0MqGIXKq5fAAaR479ZOpEXiF0LkFxwkFcudssHcRMQelM7HCLZtrc7YMxR3NtYzKVKgA69GzbbKaN0vjhgnBLyPk7cA50EozNrkdpGxzAAqBzLQKEvYC6zWlDlizXETN3CCrEtObYmZ16xyovHcCS25S3ila33SxkAAmAsgNr7za9AetDcQ4WVkdoSEuC2M4CgZgXzCGYATJMdQeelxFHHhOMGDa5233QD5rfaH8LhW7uxlpOmmhrLRWjscDuMMov2youC33XLA5gpLKIhhqPEmucT7OlLaXBcU57faRERDICCZ/wAe/gRTKUgy1b2x7Ps4EZs3jMEfvpzb9mrpJGa33XVCQ4Yd6NRG4GYTz1rj/wCn7hC5WUlk7QDUaSojMRlJ7wOh0gjfSjB8iQCtFcwmBS6hW6z2xlLKyt3pY5hIAgBY89dq6s+yN5rhtlkVhm/FIOVUbQgc86iqD7O3ApYsn4gBLHMUDFlHdgEZTvA6TRIV6P8ADYLh9wHJbdiIEr2hE6mCPEDry5QZM4PcwNi9mQhLgVlh2PdJyggZtm0cctGI6Um9k+FYxu/bPZWSczXGCmcpKdxTqxksOQnc1fiuBWb1yTcxNu5ccL38McrswEsmQABZzGNyFmKVxUl+30DD4rtEUgkjWPKa4xWAW69pyWBtNmGUkT1B6ig+DkLb7PTNai24GkFRA05SsMPAimTWwyw22h3I2II1Gu4FFjSVl/bThIw1s4vDMUXODdt902yHMZ1RlKo2YiY01Prl8Fx267E28wtoZbIiIUUnQtcCExqJgbBjEAxq/aTjlp8RhsIYZGvWzd2KkBhlRgdCJgkeA8arwuCt28firAW2bV9Q6KI1CrbZ0YAaKczRpHvVn7Osi7maz927iTcuNcZOy7VbbOhBt2ywDFgYEqM0ExuR0Erk41bh0Lvl1CHskeRtmJJmTv05aCANLgsJ2eHxttQbuS6yKrQzv3EPejeCd/E0lxlx1VLdy1h1BlgdAEIIYq/ofd55udVJWfVhTi+JKuVba23UAzmtKDrvqOUfvpTj8UbmWURMojuIFnbeNzpWtw2Ia3h2uFMM65iSCO8e8E7ixEeXid6xuJcFiQIBJgTMeE86XUh/x3aHZa9CzoNa9gnQUawFoQNbh3P5PAf4up5bVljXXlhFRgs/eSJO4Guqgjn4+lLmq+wO+vmPrVJFTVRxUropUqVClvVw7yaomvRVaj4meHFsqc2/L+FQCzIzZonWImNP50JZugAgg67eFXJftiJtkkGfe8tDp4H41csxF5unPDLGHIAJuwT3gIgxEDfl3vlR1rg1plbKLhIgyANu7Jjb83PpS3hvELKkZrbRzhv2flo2njT3hntHbtFoVsrrlbvanfy02+FV19L/AIpNKeI8Pw62QULm7OoI7sSfDeMvP+WbZYra8Jxdk3Ju5ckGQykg6aDQSCevKquJpgbl2V7RUyf2ajfM0SHI1CZASNyD5knOl/J1JWOmu1FarHcIwgs27lt7g1fNnUBnAy5VQAkb5pbYeehHxWJK2bZt21RS1wQURzAyRLspZj4nrpA0qpyy+cZ6KhmmJ4re/wAHP+yt8zJ/D4VdhsdibjZVykwxP3dsAD3mJOXQab0GUJNG4Gy111tqdWYAAmBJ09KeNjVezftytzImY3MoEk3bfuDKCoEnxM8hoFnA0m9aGXPLqMsxm192eU0ew+ZOr6ar7NYlHy5YYayGHIFpBB6AkVc3snjBIC7jXvrqJkTrrqAfhWww3DrDFvuHW6DCp2gI2172m0qaF4gEtWTcbCvlB97tTHeII0DeMVXPQ/k/jkj59dS5ZcqSVdDyOxB5Ec68XEPEBjBERJ2kNHlIB8xRXGsRau3M1q2yCNQzFiTJ1k+ED0qm5griZcyMucBlkEZgdivUeNaRyXHKYu4NrjjfZiNxB+WlXcOe87ratu03WCQCYOYx3hzGp+dDuhBIYEEbgiCPOtZ/4f8ADg1y5iG0Fpcqabu4jTyWfLMDStw+ZtbbHJatHDYZHKqgCA9SiN46ksQ2u5B5xQt/jKW8y22DZXCP3iQGI5nY3IHIeA5ClvHcK1z7wXGtlD2aAEAO7kSrEjRQQuo1GVxSpcKLIs4drQKyLkqxJZ/dB0gQNRz5dIOeY6st+hSe0lvDYm9bvOdGB7QKWzns1EkDUEwI0200ihcV7VPdGa2QtoEi4xOVwNcsAN3Z5Eaz0NZzjOFuYi/ce0jvnYbKZBIACmBuNp5xNOfZ/wBjrty3cS7ae0SSM7EQIjKcoJLCZ2EGRB0MnyTebAfBMXcuocygW0dMhCicxuAnU66SdeciZNfT8Natt2Za2rMQe8UUx4EkSKRcM9i7lq0ttbklXDSyFA3ezaCWI6a9K1Fmw9sDMu3SaPDxVj8MAJRQBrsAB+jXz7j2FVbmbsVuC4pDMWClYgaFtB9fpX0P7bmLKUIUAamAD5a/wFZLj1q3cQnItwKSSj5lGZZkNEMppz6wuozGDwLLmLYO2yyF0bRcsktL5id4nbuxBrN8awRt3mXIUB1CyDAOuhGhEyPStU+Ew99VNtL9kom4uO1svyCB8zwD0IFJ0uXMNcY3V7QFGtqzSVhhIKk+cx40vuF/1qheE3LdtmCN2kA+6e6CYMH8+o8hPPYG3w24d0b4GrsTjDyJ+NcW+IuB75+JpeDbilcGwcaREHXTmKHtqKuvY5iwzMxHMZjqOYoR31MbcuVZ9WNeZbFt6K8od2qVGrxzV2Ecq4hc0yI6zVANd23KkEbilFUwuX1K6oQQdwAOsSY5yJ8q9v46SSUXUHQgGCSZI0GvL0FVniLFSGUGfhuCdPMVyeIOZ1AzKFOg2GgHwq9Z4KxquxWLRTKgBge9GpcwN4ImgyxAmDFbfh2JugDRnUosQiKO8AUmbnUkcpMjWKR8WfPYQgEWw7ZPuwqgtqwkXGPkI5ac61vPjPnvKSi6aJw1+KcYu3gA1qGuFOzGfsxLZ+rZ4GusgaCBvV+FHDMl3W/n7NsmcKBn0yxlPXrpE84okT3dizjPHbyXriK8KpygQugAAAGm1eYjjt3sbRzCS1ye4vLJzIg+lJ/aJv8Aabv7RrjEt/s9n9q5zn8n4eXnz9KpPxGNx27+Zf8A+dv/ALatxmMe5g5bLPax3URJASYOUCaQLNN8p+x//u/+OgXxTwlfu8T/ALtf/Vt0JacqdKP4Wp7PEf7tf/Vt0MmDdkNwIxtqQGcA5QTsCdgTRngnWXT7PbGEF1b7/aM+VkgwEjRs3PUUrs33uuts3CA7KpLE5RJgE+Ao7gL27Oe5iLJuWnRkUElQWOxB5xH08K84dfw3ZX1a05vMv3TBtFic8jTdfP0onOH1/LbMEYf2Zz4psMmJstlk588KYE6HmeVC4n2hxBuI3aH7nKtsbhQhlR4+tI7GbOImZG29aTFWeHti0Rb1xbDZc7lASrR3sscp8D609RefU41gcTdyYt1kYkkgiNWUw3dGwmjFs4zCWiqP2bIXd0IQgnRSsme8As6RvvS3BWu1x9uwGLWluQoO2RCWOnKVXXzr6Vi+E2rlsuba9p3iG2YmDBJ5+tRdv004kntYPG8SbFtZsqwBA72uVCx7xbXY6mZJ19ac4fFph7NyxcOW68EOMxy6c/PbSayXH+GnDXR94lwuoc5IGSSfu2A91hG3lQi3HuMAJd3IAG5ZmMAeZJostbc/ySePpnsXhGv3bly28oFVW01zQAW82ifGTO1fQLeCa2pFsIpOskZiT4kR8qU8MbDcNw1u0GRDEuzMBneBmYkxmM/AAAaUbh7trEDtLd3P0ZLkgGNpUx4wayu37+juFuO4ziMOS1+xmtDe5Zc3GUc2e2VDAD/AWo9b6XrYu2XDKRIgyGHUfrzq25mNs9oQWB3AAkciQNAZnasZw+99jxhtKYs4jM6p+FLiQbgXorr3o6g1Ul+02m+If9fI0k4rYbICddIBO5gkAn0jXqDTLGuBcYDY6/r5UlxzEsDJgCI5VvGNLWBjU/AVziWthVTMGzghlIBA17pjlzHlHSu2NLsUvekRPjoPKeVOlGU45guyuae62o8OopYDW3x2HS73c1sQDq5gTEQOrc/Sg0wNtRdMWCTqoN0nLI2A5xO56VnePdi/nJ4yL15TRuFH+8taiffnlMHoeVA4rD5CBmVpE90zHhWHUrbnqUOaleGpUNEijbODDKDnAJ3HrH69aEIo3D4YMFIaD00mZgcxy/QqpE9V6vD+8QWA1gE7bkEnoBHzFWfYFjR1Hve8QJymNOv8q7XAe9meIJg6ax4TuT9K9vcORWCtcA0MnlII218x/lNafH/GXy/0/wCDswRSuLAZQNHIyjuKQImTlJjnqPd3qrjGAuRcFy/3Laq6KQFDkiSEAaMwBkxO5O5g0cP4NZuhIvQzASogmcsnmI+mh1mq7vDkyjtMTr2gAE5u40Tc3kdCI+lX+M/0jmop1rUcN4Ng7ilWxOVhcZQY95YXIwU76yIGvenYV5jvZu3b7Zu2GW2oZdmJOilGjZs5A8QGPKKPT2OeK8Om/duXSUt5zHN3jdba8/FjoPOARW43cACW1W3bWcq5FYidyWYEsx0k/ICBXD+0mIaM1wNAABa3bJgaASVmmvAsRfxJuDtVTs7Zf+qtnNEd0aDvGdBzppu/pUOO4n+8I8lUfQU6wWOxV3Dd26wIud5i2VVUJqWPIT+4CTApP/T2I/vP+VP4VXiuK37i5HuMVmcuwnrA3NOJp5ib96/hrgt3S1m0QbjO5zOfwnKZyqToq9RryhLhuNX7dp7COVtuwZlHMjYzv0+Aoa3jLi23tKYS4VLaanLOUE9NZiqlSqGNPhXxePw5sr30wqtcA7oIU+9rux/nVHCcFfw4GN7OUsuNWEqX/CpG8ajX99J7V1knKxEiDBIkdD1FNuBA32GGe+LVp5LFj3FKgkMRMTpE+NCFnDeOk3rrGxaZsQHT3B3C595ANiDtSq/we8t02jbftAdUykttO3lrR3COF5u2uC7bH2YZxLZS8GFyddQPiK5t+0mKS8b4vP2hnvEzuIOh02oh760/su9q7eQ27IRsNYKu4YnO7RbBjl3S/wAK2/8AZD4fWsd7BYfLhrl0+9euQD1W2N/+J2+Fa9T92fOhpPp8s43w5VvXnvXCC2ZrcDMXI0E/lWQRJ6VX7G2C2NtEbIS59BA+ZFG+1OJa1ibodA6OvczDRSVALIeo6ba1pf8Aw74T9ntNjLg791ctpTyXm58+XgJ50W4mS2huNPmLXHgnU/mIAJEKOR8tfKTIeC4jctKjrYxVi7mALtbi0cxAQMdyCSAQR89acY/hoZy4O+hB2Ikn0Mk60oxiFWCMbpP4VIJX9rTukid59anqNJW2w3F2u21bbMNV6EaMPQgisrx7Gj7VhUHv9oW8gEYH/qFFfbhh7BZzGXMx15sxMfE0h4HcOKvtiymREXIk7sdSzHw1pX8gn9tJjmLMsGMrAnbksRMTzOxHjND4hqvKTB5/6n+VC3zWkiAjjlG/yjefSleLgQT5+MDkPh86Y3X59P1+vOlt9pzCQCLbQDueRA8YJ9JpURZg8Sjao2VWU93sTcIghZzeMcvChsTd+7Iz++8f/bwIEwdtdaBwHG7du2qF7wIUiFICAliRpuRFU2uOqZ7R7zd4lYuAQNx6zr6Cp+UL42iMXdVN7mXMT/YZQYYmfjGlIuIdmxZxcLMTtkyg/wANKoxmLdz3mYge6CSYHTWhhWfXWt+OccsKlevUrLGupROGsqwkvlMn6CP30Ma5NMvs5t8Ph4mRHM6zGkgHxBq3HYC3mEMLYIPvGdoI57w3ypPYvFDI10I18RFXYrFvcIzb6nzLGSf3elV8piLzdO+H8Is3QkXodhqogmYkjfT6CDrrVV/hVpEJe+A2cBQIaUP44Bnwjx8DSZ7LKxVgQw3BEEeYpha4HiHEi02u0wpPkCQT6VUv+JvP7pvwjhuCuJFy+VfOwBAILLC5TlM/izCN9Z2Wu8d7PWk7Y9uMttMygEOS0AFGiIOdhy2VulIP6MvB+zNtw/5cpzfDej7fBLu3cLflF22W8soaZ8ImqkZ9efpQtum/AuHpduZbl1bSgE5jzj8I8TXuG4RddbrBIFkTcB7pG/I89DXfASC7L2JvEowCgkQTs5jkPTzqpMT11bDTHcEwtsEriQRI/KxWWUGQDLaEnQfh5HSvcHwnBsmZ8UAdQBEEwxEwfdGUDQ6970JGOt3GZU+wqpUOsycnfaVObQd3UAknf0qxGe+zAYFAzW27zd2JGXPMAaE9PXc1SGY4rh7aXCtq52iaQ23p6ULNMrns9iUVna2VVNWJIEb9TrtSomlVR2TTa7i7BwqW0tsL+cl3zd1l/CoHKNPh8CuA8Ju/1n2ftUIUiSsHvKx3PNQR6024lmDoFwASMuYAKxOZgVAKiATkZdZ0JpwuqxdcOK2NrAuyret4S2EXIxLOCT2YKuCD+YjURoaOJe9dbDthLSHKUbUbM1vvKQveKiDpyPxaYecIw/ZYXD24grbVmH+K5943zaPSmyH7s+dA3bwa4QD6eA0osf1YHU0m7I43g32rHjPPY27aO/jLMAg8WKx5A+FabE4gsegGgA0AA2AHIVZfARQo33bxP8tqXO9AWO9cOwCnNr1HKuV686ScZxGY9mCdegkeTGRl89fKmAWLwSYhwzE9muygwp8W609wqAAKoAVQNBt4D9/l50jwNsBoeR0yjP8AXKPr5VoLBSIDNH7I/wC+lP7AhNBS7EtqaYSgEST8B/GhbypvEebafICqSUXTSTiOcSwe4iLAYpmk5tgRIERzPXnWixGYHu5F05b+GpJZfORWNxmKfKzhmDdo2oJn3QN6js4Dy2SYy3POVP8Ayx++rBwhjdS2DHaDMMwIIGs5gJyxlPprQzcRu/3j/wDG38aY4XDybD3FJtlXBiSSVLkju6jca/WDWflX7A3GuCPhvedGGYrKmeUg+RE/ClNaHihwgYkW7qgwVBJ2IOxO4mKT8Qe0Xm2CFjY9df5VHUxfN2BGr2uTUqGiV6BXgr2pUgq2y+VgwAMEHXbQzr4VWBXQqoitx7OYY3W+03ACxgKYA9yBmjadhPh1II3uGwZ7PtCTBMamfAz16egGwzVi/ZbFjsLagmVLA+eafow+Mc9NWuOOWM2g1iOmm3oR00g90Sd/xj5+kPtFxMXLn2UfiSA+ubMwzKs7lDoCDzaTtXztnINbPHWEbF9ubyZdLsrndYSM3fj8wKjnt1rJY3CMnflXRjAdDKzvB5qfAgGjaXx53w2w/Fbj4a6uchlCydCWtk5CpO+hcAeDMNoAWcNxl20xa0zKxBWV3IO4+QrrCjJZuOfxxbXxIZXYjwAUD/OKYey9y6pc2kFyMjFMxUnK0qRB11+tGlmaGfjeKzZjduA8tSBHltFcYTiGIBi3cuydIVmnrEA0y4gl/G3EY21RjbOT8IcJMkHYnl0gCi+D/a7L2k7K2sG4qm4u5IOYOV10130HPSaaaQtxC7BBuXIaZGZoM7yJ1mgmatD7Y4+6zraurbVrepKbHMAR4wB8y3Ws2GpaqTzTbC8dxFtQiXXVRsAdq5vcaxD+9duHb8R/D7p9JPxqrg+OWzdS41sXApnIdjoYnQ89fSjcbxG0QEt21ykhyWXvz+JAwI+76c6uJv8A4rN++lpG7RhbuZwAHMd33gVB0971mmvsc73cbbLOzaMzkkksFU5QTz72XfoKmLe3bRVuC3OXOiBbhAzpIJzPoSQo22g7Ud7E8XRS7Yh1S1Zt5QYg/eMOY1J7hinanmbfprxZAYmZOs+E6xRyXgEBGsSOY15kdRSYe1WBdkt2jcGZgAXtsoadtY/hReOxMmBsKUutbMU4i/JqpR13+lcDrz5VRiMTlGsTz6VaFl/EwPHl/Gkdz3j1PjrHWvWxIc6kgzygz6afWvHZT+KPTX60gKsiiFYKJofDhY3J+H1BNGW4GwH1/l8qZK0R31Jyr8J/eavKj9HX+VQ3J1qugyrjuN7CwTmBe7IUKdEEH90T4z4VkcPZZ7UKpPfO3LujU9BTb2g4zbIu2ghLaIGkQMrKxAHmD8tuefw2NyqUZcyEhokiCBEgjz5g1jepq/jcX/0W5kjIY3+8t6cte91ogXruGe0691lRtDtDM4PmCDVWH4qtsQiMJ11fT5KD865xONe8ZIJIEACTAGvnFK2fgy/qjinE7l/L2hByzGke8ZNLzRRwtxjARifI1RdtMvvAjzEVl1rbnPpWalQ1KhoirR2HsjIDkB1iS0emtBzVy4hQsFAT1mnMRdpglkGe6iysiW6xt40PgGAaT2eh/HtseXMfyqkYsAe4u3Suv6QMhgiAgR7vgR++q2J+NE4Di72nZgBlYyyDRTvt03I8iQZBp9xbjaXLSjPdQXASVChiVDRBbMJkrqTvlWsbNH3Fz2UYb25Vh0DMWVvKWYeg61XPVzB1zNlGDi6hOyCTaJkgsc5P5swELsNIjqCQDRHCb+Hz9mEuEXYQqzrlknuEwsmGjUQd+tZ6mXC1yTebQW/d8XjuAdYMMfAeIp83am8zA+MxbXCJgBRCqohVG8Afv3O5musJxG7aBFu4yAkE5TEkTB+Z+NCzXk0tMZY4ldtmUuMDGXfSCcxUjYqTrG1e/wBJXs5ftHDEsSQxB73vbdZM0DNeijaMi+7cdyXYsx5sSSempNV0zwrgYW6JaTctaCMp0uHXSZ6QRud6WVUS6oxOG3DbFwIShbICIMt0A3+VBA1YLhiJMdKqFdPMdw689u25S81zvq+cMYVcuSJGg1bmdqa+xODNq+j3baPbKm4gYhhnTuKxXw7RjB5gHlSjH4xEtLbt5D2iI1wjMSHUsYBbYwRMaSNPG32Sxtq3cudq2XOgCnlOYSD06+h8KdkTza2WO4m11jcZbcBtNIYQYkRoIjarg8679PGhL2FUAySANSJgeZFLLvE2t5ineVQsn3h3tFO+hJ57bVfkhfZ8MxOVBmY+O3qdq5xmBNu3LwSdyDIHUSQNBvtS/gnH2mDaBDTJB1GhInTX93xq7j/GA9m4QNlA+LAfQmjf0YxWO4ixchdAD61MNjH/ALy4PNyw9VMg+opdznT1MVaXO8AeRn99YfL1tJ40eExTFgCACea6A9DHLoRtqIgaDQpWS4U+Z7f7Q+Wv7q1IaOdbcfTHr7XM1DYzFi3bd/yqx9RsPjVZxWsSPKZNJPaPF9zII2PPX4U7cgkZrh0Net54Kl1zk7EFhmn5004kMGpi3nYZO6RA72ZpzzrH7opRgLoS4jnZWUn0IpjjuI22Jy2gAUyqCB3SGJJGm/l1NYSzGvUurcbicKFuC2rC42cTupBdSoWNhAJ25xrS3hGJZHgOUDaMV3jp8YrziF17ztcyEbA84gRvQanKwnkdfQ1N69VOfMPb+PVLrzcuMMpA7x6aagj9RSNrxb3iT5maJv5HcmYEeWw/jQJpddU+eY9c17XFSoaITXdu0WmOQJ+G9V0T9pPZhAI1mZ330+fyFEKqrdpmMASdT8NT9DVj4ZhGkkiYAMjWNRFd2cQxZdtARtGhBmY12Jq1gQS+Yyx/INZ10BO2lUW1TbwxKlicoAkT+KDED9cq8w+IZDmUwdvAg7gg6EeBosYfMoJJIAJByqCILaHUncHwpaaX0J6ci6htm4bSE5o0D5eRJaHAXfSBrrtVGZ70lmAVBoNFVZ2AUaCTz9TS4NReEiG7pYx6DeZ8Y28audaizBQ4UZy9ogMagmInUeYiCTy9K6tcJUrLXrY9Z+PT+Rrkhcv9ST4zp15b6V0rEQBbWANiZgnf1Ij0p+F6HxeDVFQpcFwsCWC/hiN/n8KEFML+IKoRlRS/5RrB316fxpbNTVTTCy33Fwf47f0uUHNWo/3bDqyfR/40PNVqZHc1dh7LOYUeJ5ADqSdAPE1zbt82ML8z4Ac/pXVzEyMqjKvTr4seZ/QiiUWGVjA2jbe49wjK6oIUw2bUsJE6AOT/AJetF4LDYGbna3nygqEgEEiO8Yyn08vGazs1dawrMJERr8on6/Wr+ScPcNxRQoQNcdiLq5GJZDKEWgs6+9B5fSibeAtouUlJFtWh2h0YvBy96Gn/ADAAn3d6z/DrDdopMiO9vBjbunr0p3iOIIxz5l2CiFl9yCI2Ud7n0050S77Ssz6McRc0GRZgAQu48CWiTz0ncegmPecM7fmyHedJ5iNKQYy87FmzBRJ7qmABmIAgb+tF8DOe3dQmZjfyMfMCn8tuD4/pSwkxXh0NS9bKsQa7s2WuHQadf3Dx8Kw/Wv4d+z0yX6DT10+gb41oBf7ppThLYtoF57n+H0FWm5XTz5MY9e13cxB5MT6ACknFbndOgM6eXj+71o+49L+IJKHyn4VPV8PmFuDv5J7uaeXKu8TjCxnKASCDI/WtCWTqKtvvrrBmsN8a56Ku45wNgOQpezSZ6mrsTMCT+oqhGAmaVpyeLGYBtqoNWC5BmvLzz5UjiupUqUKSi+1ItLH5v+6valE+icLeJzT0/gPoTU7Qtuem2nr51KlP8K/Yqxbzd0kx6fw8TS41KlFKPKIwrHUSY1+QJHzqVKId+hSAsQCzEedeiwM251318D/AVKlUio2HXp+pqPaEbDlUqUwqxB30A22/zVXh0Gp6VKlI/wAVs5J1rkVKlBuqtW8w7oJipUpocZyNid49OlVs5O9SpSU6mmvs/wD2n+X/AN1SpT5+xfoQUB3q+33dv4/WpUrWMl4NQ1KlMlL1TcqVKmqjP3kAYgbTXka1KlYtl1tASJqrEIBt0qVKkRVXlSpQpKlSpQH/2Q==)\n",
    "\n",
    "### Link\n",
    "[Apssdc portal link](https://www.google.com/search?q=engineering.apssdc.in&sxsrf=ALeKk03S5VkFtQcffgEDCvZj80wReAHo7A%3A1621335528703&source=hp&ei=6J2jYOfkJ5zFz7sP28m6kAk&iflsig=AINFCbYAAAAAYKOr-M1dxsduN0ZwEP5vnRUezu3X61Zi&oq=engineering.apssdc.in&gs_lcp=Cgdnd3Mtd2l6EAMyAggAMgIIADICCAAyAggAMgIIADICCAAyAggAOgcIIxDqAhAnOgQIIxAnOgUIABCRAjoICAAQsQMQgwE6CwguELEDEMcBEKMCOgUIABCxAzoECAAQQzoKCAAQsQMQgwEQQzoHCAAQsQMQQzoHCAAQyQMQQzoICAAQsQMQkQI6AgguUJsuWPdsYPV2aAFwAHgEgAGZDYgBr2ySAQ8yLTIuMC4xLjQuMy40LjKYAQCgAQGqAQdnd3Mtd2l6sAEK&sclient=gws-wiz&ved=0ahUKEwjn-PzBidPwAhWc4nMBHdukDpIQ4dUDCAc&uact=5)"
   ]
  },
  {
   "cell_type": "code",
   "execution_count": 3,
   "id": "71aa8a26",
   "metadata": {},
   "outputs": [
    {
     "data": {
      "text/plain": [
       "int"
      ]
     },
     "execution_count": 3,
     "metadata": {},
     "output_type": "execute_result"
    }
   ],
   "source": [
    "a=10\n",
    "type(a)"
   ]
  },
  {
   "cell_type": "code",
   "execution_count": 4,
   "id": "ca710fd6",
   "metadata": {},
   "outputs": [
    {
     "name": "stdout",
     "output_type": "stream",
     "text": [
      "<class 'float'>\n"
     ]
    }
   ],
   "source": [
    "b=10.7\n",
    "print(type(b))"
   ]
  },
  {
   "cell_type": "code",
   "execution_count": 6,
   "id": "a8e7c65f",
   "metadata": {},
   "outputs": [
    {
     "data": {
      "text/plain": [
       "str"
      ]
     },
     "execution_count": 6,
     "metadata": {},
     "output_type": "execute_result"
    }
   ],
   "source": [
    "c=\"Jyosh@016\"\n",
    "type(c)"
   ]
  },
  {
   "cell_type": "code",
   "execution_count": 9,
   "id": "bad89446",
   "metadata": {},
   "outputs": [
    {
     "data": {
      "text/plain": [
       "str"
      ]
     },
     "execution_count": 9,
     "metadata": {},
     "output_type": "execute_result"
    }
   ],
   "source": [
    "d='yes'\n",
    "type(d)"
   ]
  },
  {
   "cell_type": "code",
   "execution_count": 8,
   "id": "9b7f25fd",
   "metadata": {},
   "outputs": [
    {
     "data": {
      "text/plain": [
       "bool"
      ]
     },
     "execution_count": 8,
     "metadata": {},
     "output_type": "execute_result"
    }
   ],
   "source": [
    "e=True\n",
    "type(e)"
   ]
  },
  {
   "cell_type": "markdown",
   "id": "0cd0ab35",
   "metadata": {},
   "source": [
    "### Conversions of datatypes"
   ]
  },
  {
   "cell_type": "code",
   "execution_count": 10,
   "id": "a58dffd7",
   "metadata": {},
   "outputs": [
    {
     "data": {
      "text/plain": [
       "int"
      ]
     },
     "execution_count": 10,
     "metadata": {},
     "output_type": "execute_result"
    }
   ],
   "source": [
    "type(a)"
   ]
  },
  {
   "cell_type": "code",
   "execution_count": 13,
   "id": "7532d24d",
   "metadata": {},
   "outputs": [
    {
     "name": "stdout",
     "output_type": "stream",
     "text": [
      "10.0\n",
      "<class 'float'>\n"
     ]
    }
   ],
   "source": [
    "print(float(a))\n",
    "print(type(float(a)))"
   ]
  },
  {
   "cell_type": "code",
   "execution_count": 14,
   "id": "6c00fc33",
   "metadata": {},
   "outputs": [
    {
     "data": {
      "text/plain": [
       "10.7"
      ]
     },
     "execution_count": 14,
     "metadata": {},
     "output_type": "execute_result"
    }
   ],
   "source": [
    "b"
   ]
  },
  {
   "cell_type": "code",
   "execution_count": 15,
   "id": "5b96c8d8",
   "metadata": {},
   "outputs": [
    {
     "data": {
      "text/plain": [
       "10"
      ]
     },
     "execution_count": 15,
     "metadata": {},
     "output_type": "execute_result"
    }
   ],
   "source": [
    "int(b)"
   ]
  },
  {
   "cell_type": "code",
   "execution_count": 16,
   "id": "e7983fea",
   "metadata": {},
   "outputs": [
    {
     "data": {
      "text/plain": [
       "1234"
      ]
     },
     "execution_count": 16,
     "metadata": {},
     "output_type": "execute_result"
    }
   ],
   "source": [
    "f=\"1234\"\n",
    "int(f)"
   ]
  },
  {
   "cell_type": "code",
   "execution_count": 17,
   "id": "58a0791b",
   "metadata": {},
   "outputs": [
    {
     "data": {
      "text/plain": [
       "'yes'"
      ]
     },
     "execution_count": 17,
     "metadata": {},
     "output_type": "execute_result"
    }
   ],
   "source": [
    "d"
   ]
  },
  {
   "cell_type": "code",
   "execution_count": 18,
   "id": "6bc4a738",
   "metadata": {},
   "outputs": [
    {
     "ename": "ValueError",
     "evalue": "invalid literal for int() with base 10: 'yes'",
     "output_type": "error",
     "traceback": [
      "\u001b[1;31m---------------------------------------------------------------------------\u001b[0m",
      "\u001b[1;31mValueError\u001b[0m                                Traceback (most recent call last)",
      "\u001b[1;32m<ipython-input-18-31e21d3d77e6>\u001b[0m in \u001b[0;36m<module>\u001b[1;34m\u001b[0m\n\u001b[1;32m----> 1\u001b[1;33m \u001b[0mint\u001b[0m\u001b[1;33m(\u001b[0m\u001b[0md\u001b[0m\u001b[1;33m)\u001b[0m\u001b[1;33m\u001b[0m\u001b[1;33m\u001b[0m\u001b[0m\n\u001b[0m",
      "\u001b[1;31mValueError\u001b[0m: invalid literal for int() with base 10: 'yes'"
     ]
    }
   ],
   "source": [
    "int(d)"
   ]
  },
  {
   "cell_type": "code",
   "execution_count": 22,
   "id": "8b45f138",
   "metadata": {},
   "outputs": [
    {
     "data": {
      "text/plain": [
       "2"
      ]
     },
     "execution_count": 22,
     "metadata": {},
     "output_type": "execute_result"
    }
   ],
   "source": [
    "a,b,c = 2,4,6\n",
    "a"
   ]
  },
  {
   "cell_type": "code",
   "execution_count": 23,
   "id": "02064665",
   "metadata": {},
   "outputs": [
    {
     "name": "stdout",
     "output_type": "stream",
     "text": [
      ".\n"
     ]
    },
    {
     "data": {
      "text/plain": [
       "'.'"
      ]
     },
     "execution_count": 23,
     "metadata": {},
     "output_type": "execute_result"
    }
   ],
   "source": [
    "input()"
   ]
  },
  {
   "cell_type": "code",
   "execution_count": 24,
   "id": "1e34306b",
   "metadata": {},
   "outputs": [
    {
     "name": "stdout",
     "output_type": "stream",
     "text": [
      "enter your namejyoshmitha\n"
     ]
    }
   ],
   "source": [
    "s=input(\"enter your name\")"
   ]
  },
  {
   "cell_type": "code",
   "execution_count": 25,
   "id": "47b04e65",
   "metadata": {},
   "outputs": [
    {
     "data": {
      "text/plain": [
       "str"
      ]
     },
     "execution_count": 25,
     "metadata": {},
     "output_type": "execute_result"
    }
   ],
   "source": [
    "type(s)"
   ]
  },
  {
   "cell_type": "code",
   "execution_count": 26,
   "id": "2983cea1",
   "metadata": {},
   "outputs": [
    {
     "name": "stdout",
     "output_type": "stream",
     "text": [
      "enter a value016\n"
     ]
    },
    {
     "data": {
      "text/plain": [
       "'016'"
      ]
     },
     "execution_count": 26,
     "metadata": {},
     "output_type": "execute_result"
    }
   ],
   "source": [
    "input(\"enter a value\")"
   ]
  },
  {
   "cell_type": "code",
   "execution_count": 27,
   "id": "75c61188",
   "metadata": {},
   "outputs": [
    {
     "name": "stdout",
     "output_type": "stream",
     "text": [
      "jyoshmitha56\n"
     ]
    }
   ],
   "source": [
    "x=int(input(s))"
   ]
  },
  {
   "cell_type": "code",
   "execution_count": 28,
   "id": "38fee4d9",
   "metadata": {},
   "outputs": [
    {
     "data": {
      "text/plain": [
       "int"
      ]
     },
     "execution_count": 28,
     "metadata": {},
     "output_type": "execute_result"
    }
   ],
   "source": [
    "type(x)"
   ]
  },
  {
   "cell_type": "markdown",
   "id": "b53f7980",
   "metadata": {},
   "source": [
    "### Operators\n",
    "\n",
    "- used to perform different operations on the variables or values\n",
    "\n",
    "- types of operators:\n",
    "    - Arithematic operators : +,-,*,/,%,//\n",
    "    - Assignment operators : =,+=,-=,%=,/=,//=\n",
    "    - Comparision operators : ==,>=,<=,!=,>,<\n",
    "    - Logical operators : And,or,not\n",
    "    - Bitwise operators : "
   ]
  },
  {
   "cell_type": "code",
   "execution_count": null,
   "id": "69a61806",
   "metadata": {},
   "outputs": [],
   "source": []
  }
 ],
 "metadata": {
  "kernelspec": {
   "display_name": "Python 3",
   "language": "python",
   "name": "python3"
  },
  "language_info": {
   "codemirror_mode": {
    "name": "ipython",
    "version": 3
   },
   "file_extension": ".py",
   "mimetype": "text/x-python",
   "name": "python",
   "nbconvert_exporter": "python",
   "pygments_lexer": "ipython3",
   "version": "3.8.8"
  }
 },
 "nbformat": 4,
 "nbformat_minor": 5
}
